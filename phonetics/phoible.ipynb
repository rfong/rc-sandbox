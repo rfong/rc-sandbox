{
 "cells": [
  {
   "cell_type": "markdown",
   "id": "4a7cd055",
   "metadata": {},
   "source": [
    "# Phoible explorations in language dis/similarity\n",
    "[Phoible](https://phoible.github.io/) is a highly structured dataset of phonemic inventories by language."
   ]
  },
  {
   "cell_type": "code",
   "execution_count": 124,
   "id": "72dea46b",
   "metadata": {},
   "outputs": [],
   "source": [
    "import csv\n",
    "import itertools\n",
    "import matplotlib\n",
    "import matplotlib.pyplot as plt"
   ]
  },
  {
   "cell_type": "markdown",
   "id": "afb7dc0e",
   "metadata": {},
   "source": [
    "### Load the data"
   ]
  },
  {
   "cell_type": "code",
   "execution_count": 209,
   "id": "6b8e5bdc",
   "metadata": {},
   "outputs": [],
   "source": [
    "# Load & process dataset into a dict {<str>: <set>} mapping language IDs to sets of phonemes.\n",
    "with open('phoible.csv', 'r') as f:\n",
    "    reader = csv.DictReader(f)\n",
    "    lang_phonemes = {}  # {id: set(phonemes)}\n",
    "    langs = {}  # {id: row}\n",
    "    all_phonemes = set()\n",
    "\n",
    "    for row in reader:\n",
    "        idx = row['InventoryID']\n",
    "        if idx not in lang_phonemes:\n",
    "            lang_phonemes[idx] = set()\n",
    "        lang_phonemes[idx].add(row[\"Phoneme\"])\n",
    "        langs[idx] = row\n",
    "        all_phonemes.add(row[\"Phoneme\"])"
   ]
  },
  {
   "cell_type": "markdown",
   "id": "2c5fe05a",
   "metadata": {},
   "source": [
    "### Quick overview"
   ]
  },
  {
   "cell_type": "code",
   "execution_count": 200,
   "id": "345ad18c",
   "metadata": {},
   "outputs": [
    {
     "name": "stdout",
     "output_type": "stream",
     "text": [
      "3020 languages\n",
      "\n",
      "CSV field names: ['InventoryID', 'Glottocode', 'ISO6393', 'LanguageName', 'SpecificDialect', 'GlyphID', 'Phoneme', 'Allophones', 'Marginal', 'SegmentClass', 'Source', 'tone', 'stress', 'syllabic', 'short', 'long', 'consonantal', 'sonorant', 'continuant', 'delayedRelease', 'approximant', 'tap', 'trill', 'nasal', 'lateral', 'labial', 'round', 'labiodental', 'coronal', 'anterior', 'distributed', 'strident', 'dorsal', 'high', 'low', 'front', 'back', 'tense', 'retractedTongueRoot', 'advancedTongueRoot', 'periodicGlottalSource', 'epilaryngealSource', 'spreadGlottis', 'constrictedGlottis', 'fortis', 'raisedLarynxEjective', 'loweredLarynxImplosive', 'click']\n"
     ]
    }
   ],
   "source": [
    "# Check the dataset format\n",
    "print(\"%d languages\" % len(lang_phonemes))\n",
    "print(\"\\nCSV field names:\", reader.fieldnames)"
   ]
  },
  {
   "cell_type": "code",
   "execution_count": 201,
   "id": "27c49bb3",
   "metadata": {
    "scrolled": true
   },
   "outputs": [
    {
     "data": {
      "text/plain": [
       "Text(0.5, 0, 'phoneme inventory size')"
      ]
     },
     "execution_count": 201,
     "metadata": {},
     "output_type": "execute_result"
    },
    {
     "data": {
      "image/png": "[encoded data removed]",
      "text/plain": [
       "<Figure size 432x288 with 1 Axes>"
      ]
     },
     "metadata": {
      "needs_background": "light"
     },
     "output_type": "display_data"
    }
   ],
   "source": [
    "# Quick visualization overview\n",
    "fig, ax = plt.subplots()\n",
    "ax.hist([len(ps) for ps in lang_phonemes.values()], bins=25)\n",
    "ax.set_title(\"histogram of languages vs. phoneme inventory size\")\n",
    "ax.set_ylabel(\"languages\")\n",
    "ax.set_xlabel(\"phoneme inventory size\")"
   ]
  },
  {
   "cell_type": "markdown",
   "id": "d882f5e3",
   "metadata": {},
   "source": [
    "### Convenience methods"
   ]
  },
  {
   "cell_type": "code",
   "execution_count": 241,
   "id": "6a09ce71",
   "metadata": {},
   "outputs": [],
   "source": [
    "def get_lang_name(idx, use_dialect_name=False):\n",
    "    la = langs[idx].get('LanguageName')\n",
    "    di = langs[idx].get('SpecificDialect')\n",
    "    if use_dialect_name is False or di in la:\n",
    "        return la\n",
    "    return \"%s (%s)\" % (la, di)\n",
    "\n",
    "def prettyf_lang(idx, ps):\n",
    "    '''Return pretty print string'''\n",
    "    return \"{0} [{1}]\".format(\n",
    "        get_lang_name(idx, use_dialect_name=True),\n",
    "        len(ps)\n",
    "    )"
   ]
  },
  {
   "cell_type": "markdown",
   "id": "5f1f0ec6",
   "metadata": {},
   "source": [
    "## Let's ask some questions!"
   ]
  },
  {
   "cell_type": "code",
   "execution_count": 229,
   "id": "272f2383",
   "metadata": {},
   "outputs": [
    {
     "name": "stdout",
     "output_type": "stream",
     "text": [
      "!Xóõ (NA) [161]\n",
      "{'ɡʘkʰ', 'kʘ', 'uˤ', 'kǁh', 'pʼkxʼ', 'ɡʘ', 'tx', 'ɲ', 'i', 'ɡǃkʰ', 'kǁʰ', 'kʰ', 'kʼ', 'kǀkxʼ', 'kǃʔ', 'kǀʰ', 'aᴱ', 't̪ʼ', '˨', 'kǁʔ', 'ɢǃ', 'oˤ', 'qǀʼ', '˧', 'a̤', 'ḛ', 'ɡǃ', 'd̪x', 'kǃkxʼ', 'ɡǁkxʼ', 'qʘʼ', 'tʼ', 'kǀx', 'ʔŋǂ', 'kǁ', 'kǂh', 'ŋǁ', 'd̪ʼkxʼ', 'qʰ', 'ŋǂ', 'kʘkxʼ', 'pʰ', 'ʔŋʘ', 'ɢ', 'ˀm', 'kǀ', 'e̤', 'kǁkxʼ', 'ḭ', 'ʔŋǃ', 'ˀn', 'b', 'kʘʰ', 'ɢʱ', 'ɡǀ', 'n̪', 'ʔ', 't̪ʰ', 'kǂ', 'ɡ', 'a', 'ɡǁkʰ', 'ɡʱ', 'ɡǃkxʼ', 'ŋ̊ǂ', 'ɢʘ', 'e', 'dʼkxʼ', 'ɡǂ', 'ɡǀkʰ', 'k', 'tʰ', 'ɡǃx', 'kǀh', 'kǁx', 'kǃx', 'kǂkxʼ', 'ɡʘkxʼ', 'o', 'd̪ʱ', 'qʘ', 'dʱ', 'd', 'qǃʼ', 'ɢǃqʰ', 'kǂʔ', 'i̤', 'u', 'qǂʼ', 'õ', 'ṵ', 'ŋ̊ʘ', 'ŋ̊ǃ', 'kǂʰ', 'kʘʔ', 'o̤', 'ŋʘ', 'f', 'ɡǂkʰ', 'ṳ', 'ŋ̊ǁ', 'ɡǁ', 'ɸ', 'h', '˦', 'qǃ', 'ɢǂ', 'qǀ', 'ũ', 'l', 'ŋǀ', 'ɢǀ', 'ẽ', 'ŋǃ', 'ʔŋǁ', 'ɢǁqʰ', 'd̪', 'ɡǀx', 'x', 'dx', 'p', 'ɡǂx', 'ɢǁ', 'oᴱ', 't̪', 't', 'kʘh', 'qǁʼ', 'a̰', 'ɢǀqʰ', 'ɡʘx', 'kǃʰ', 'eˤ', 'kxʼ', 'qǁ', 'kǀʔ', 'ĩ', 'qǂ', 'iˤ', 'ɟ', 'qʼ', 's', 'ɡǀkxʼ', 'o̰', 'ɡǁx', 'uᴱ', 't̪ʼkxʼ', 'kǃ', 't̪x', 'ŋ̊ǀ', 'ɡʼkxʼ', 'kǃh', 'aˤ', 'm', 'ɡǂkxʼ', 'ʔŋǀ', 'ã', 'kǂx', 'tʼkxʼ', 'q', 'kʘx'}\n",
      "Pirahã [11]\n",
      "{'b', 'a', 'p', 's', 'i', 'h', 'k', 't', 'ʔ', 'o', 'ɡ'}\n"
     ]
    }
   ],
   "source": [
    "# Question: Which languages have the smallest and largest phonemic inventories?\n",
    "sorted_langs = sorted(lang_phonemes.items(), key=lambda tup: len(tup[1]), reverse=True)\n",
    "\n",
    "print(prettyf_lang(*sorted_langs[0]))\n",
    "print(sorted_langs[0][1])\n",
    "\n",
    "idx, ps = sorted_langs[-1]\n",
    "print(prettyf_lang(*sorted_langs[-1]))\n",
    "print(sorted_langs[-1][1])"
   ]
  },
  {
   "cell_type": "code",
   "execution_count": 263,
   "id": "2b4466bb",
   "metadata": {},
   "outputs": [
    {
     "name": "stdout",
     "output_type": "stream",
     "text": [
      "Max union pair: !Xóõ (NA) [161] and Kildin Saami (NA) [128]. Union = 274 phonemes\n"
     ]
    }
   ],
   "source": [
    "# Question: What pair of langs has the maximum phoneme union?\n",
    "# (What pair of languages would you theoretically teach a baby\n",
    "#  to give them the largest inventory of distinct phonemes?)\n",
    "max_union_pair = max(\n",
    "    itertools.combinations(lang_phonemes.items(), 2),\n",
    "    key=lambda ps: len(ps[0][1].union(ps[1][1]))\n",
    ")\n",
    "(iso1, iso2) = (max_union_pair[0][0], max_union_pair[1][0])\n",
    "(ps1, ps2) = (max_union_pair[0][1], max_union_pair[1][1])\n",
    "print(\"Max union pair: %s and %s. Union = %d phonemes\" % \\\n",
    "      (prettyf_lang(*max_union_pair[0]), prettyf_lang(*max_union_pair[1]), len(ps1.union(ps2))))"
   ]
  },
  {
   "cell_type": "code",
   "execution_count": 214,
   "id": "5ae265bc",
   "metadata": {},
   "outputs": [],
   "source": [
    "# Question: What pair of langs has the maximum phoneme intersection?\n",
    "# (What pair of languages has the largest volume of overlap?)\n",
    "# (Note that this is a different question from \"what langs overlap\n",
    "#  by the largest *percentage* of their inventories?\")\n",
    "\n",
    "# It's ok to lazily take all pairwise combos, ~9M\n",
    "max_intersect_pair = max(\n",
    "    itertools.combinations(lang_phonemes.items(), 2),\n",
    "    key=lambda ps: len(ps[0][1].intersection(ps[1][1]))\n",
    ")"
   ]
  },
  {
   "cell_type": "code",
   "execution_count": 230,
   "id": "306a716e",
   "metadata": {
    "scrolled": true
   },
   "outputs": [
    {
     "name": "stdout",
     "output_type": "stream",
     "text": [
      "Max intersected pair: Kanga (Kanga) [76] and Kanga (Kufa) [75]. Intersection = 74 phonemes\n"
     ]
    }
   ],
   "source": [
    "(ps1, ps2) = (max_intersect_pair[0][1], max_intersect_pair[1][1])\n",
    "print(\"Max intersected pair: %s and %s. Intersection = %d phonemes\" % \\\n",
    "      (prettyf_lang(*max_intersect_pair[0]), prettyf_lang(*max_intersect_pair[1]), len(ps1.intersection(ps2))))"
   ]
  },
  {
   "cell_type": "code",
   "execution_count": 232,
   "id": "2a8f0a88",
   "metadata": {},
   "outputs": [],
   "source": [
    "# Questions: What pair(s) of langs have maximal similarity?\n",
    "# Are any complete subsets of another lang?\n",
    "\n",
    "# Takes a nested tuple ((idx1, phonemes1), (idx2, phonemes2))\n",
    "get_similarity_index = lambda ps: max(\n",
    "    len(ps[0][1].intersection(ps[1][1]))/len(ps[0][1])*1.0,\n",
    "    len(ps[0][1].intersection(ps[1][1]))/len(ps[1][1])*1.0\n",
    ")\n",
    "\n",
    "most_sim = sorted(\n",
    "    itertools.combinations(lang_phonemes.items(), 2),\n",
    "    key=get_similarity_index,\n",
    "    reverse=True\n",
    ")"
   ]
  },
  {
   "cell_type": "code",
   "execution_count": 233,
   "id": "ff662daa",
   "metadata": {},
   "outputs": [],
   "source": [
    "max_sim_ind = get_similarity_index(most_sim[0])\n",
    "num_max_sim_pairs = sum(\n",
    "    1 for ps in most_sim\n",
    "    if get_similarity_index(ps) == max_sim_ind\n",
    ")"
   ]
  },
  {
   "cell_type": "code",
   "execution_count": 234,
   "id": "c7f98191",
   "metadata": {},
   "outputs": [
    {
     "name": "stdout",
     "output_type": "stream",
     "text": [
      "13975 pairs found with 1.00 similarity\n",
      "\tSampling a few of them:\n",
      "Kota (NA) [34] KOTA (NA) [28]\n",
      "\toverlap: {'pʰ', 'j', 'ɭ', 'i', 'kʰ', 'v', 'n', 'd', 'b', 'd̠ʒ', 'ʂ', 'e̞', 't̠ʃʰ', 'ɳ', 'u', 't̪ʰ', 'ɡ', 'ʈʰ', 'a', 'l', 'm', 'ŋ', 'o̞', 'tʰ', 'ɽ', 'd̪', 'r', 'ɖ'}\n",
      "Sedang (NA) [53] Ainu (NA) [17]\n",
      "\toverlap: {'m', 'w', 'j', 't̠ʃ', 'p', 's', 'a', 'ɛ', 'i', 'h', 'k', 't', 'ʔ', 'u', 'n', 'ɔ', 'r'}\n",
      "Sedang (NA) [53] Southern Nuautl (NA) [17]\n",
      "\toverlap: {'m', 'w', 'j', 'a', 'p', 's', 'l', 'i', 'h', 'k', 't', 'ʔ', 'u', 'n', 'o', 'r', 'e'}\n",
      "Yao (NA) [49] Orokaiva (NA) [17]\n",
      "\toverlap: {'m', 'b', 'a', 'p', 's', 'ŋ', 'i', 'h', 'k', 't', 'dz', 'u', 'ɡ', 'n', 'd', 'o', 'e'}\n",
      "Yao (NA) [49] Samo (NA) [18]\n",
      "\toverlap: {'m', 'b', 'w', 'j', 'a', 'f', 's', 'l', 'i', 'h', 'k', 't', 'e', 'u', 'd', 'ɔ', 'o', 'ɡ'}\n"
     ]
    }
   ],
   "source": [
    "print(\"%d pairs found with %.2f similarity\" % (num_max_sim_pairs, max_sim_ind))\n",
    "print(\"\\tSampling a few of them:\")\n",
    "for ps in most_sim[:5]:\n",
    "    sim_ind = get_similarity_index(ps)\n",
    "    if sim_ind < max_sim_ind:\n",
    "        break\n",
    "    if len(ps[0][1]) > len(ps[1][1]):\n",
    "        print(prettyf_lang(*ps[0]), prettyf_lang(*ps[1]))\n",
    "    else:\n",
    "        print(prettyf_lang(*ps[1]), prettyf_lang(*ps[0]))\n",
    "    print(\"\\toverlap:\", ps[0][1].intersection(ps[1][1]))"
   ]
  },
  {
   "cell_type": "code",
   "execution_count": 337,
   "id": "6e0adebe",
   "metadata": {
    "scrolled": true
   },
   "outputs": [
    {
     "name": "stdout",
     "output_type": "stream",
     "text": [
      "['2175', '2176']\n",
      "0.8717948717948718\n",
      "2175 English (American) (Western and Mid-Western US; Southern California) - most similar:\n",
      "\t2175 English (American) (Western and Mid-Western US; Southern California) - similarity 1.00\n",
      "\t2176 American English (Southeastern Michigan) - similarity 0.87\n",
      "\t2252 English (English (RP)) - similarity 0.85\n",
      "\t2178 English (British) (Liverpool) - similarity 0.79\n",
      "\t160 English (NA) - similarity 0.72\n",
      "\t2180 English (British) (Tyneside English (spoken in Newcastle)) - similarity 0.72\n",
      "\t1272 kwangari (NA) - similarity 0.70\n",
      "\t172 Persian (NA) - similarity 0.70\n",
      "\t2177 English (Australian) (NA) - similarity 0.69\n",
      "\t2338 Burmese (Burmese (Rangoon)) - similarity 0.69\n",
      "2176 American English (Southeastern Michigan) - most similar:\n",
      "\t2176 American English (Southeastern Michigan) - similarity 1.00\n",
      "\t2175 English (American) (Western and Mid-Western US; Southern California) - similarity 0.87\n",
      "\t2252 English (English (RP)) - similarity 0.79\n",
      "\t2178 English (British) (Liverpool) - similarity 0.77\n",
      "\t172 Persian (NA) - similarity 0.77\n",
      "\t580 JOMANG (NA) - similarity 0.76\n",
      "\t2205 Persian (NA) - similarity 0.76\n",
      "\t202 AMELE (NA) - similarity 0.75\n",
      "\t248 BANDJALANG (NA) - similarity 0.75\n",
      "\t596 TUNICA (NA) - similarity 0.75\n"
     ]
    }
   ],
   "source": [
    "# Question: What langs are a strict phonemic subset of American English?\n",
    "# (In other words, what languages could I easily pronounce?)\n",
    "\n",
    "american_dialects = list(idx for idx, la in langs.items() if \"American\" in la['LanguageName'])\n",
    "print(american_dialects)\n",
    "print(\n",
    "    get_similarity_index(((\"2175\", lang_phonemes[\"2175\"]),(\"2176\", lang_phonemes[\"2176\"])))\n",
    ")\n",
    "for idx in american_dialects:\n",
    "    am_ps = (idx, lang_phonemes[idx])\n",
    "    most_sim = sorted(\n",
    "        map(\n",
    "            lambda ps: {\"idx\": ps[0], \"phonemes\": ps[1], \"similarity\": get_similarity_index((ps, am_ps))},\n",
    "            lang_phonemes.items(),\n",
    "        ),\n",
    "        key=lambda d: d[\"similarity\"],\n",
    "        reverse=True,\n",
    "    )\n",
    "    print(idx, get_lang_name(idx, use_dialect_name=True), \"- most similar:\")\n",
    "    for d in most_sim[:10]:\n",
    "        print(\"\\t%s %s - similarity %.2f\" % (\n",
    "            d[\"idx\"],\n",
    "            get_lang_name(d[\"idx\"], use_dialect_name=True),\n",
    "            get_similarity_index((am_ps, (d[\"idx\"], d[\"phonemes\"])))\n",
    "        ))"
   ]
  },
  {
   "cell_type": "code",
   "execution_count": 336,
   "id": "128785b7",
   "metadata": {
    "scrolled": true
   },
   "outputs": [
    {
     "name": "stdout",
     "output_type": "stream",
     "text": [
      "30 {'w', 'pʰ', 'j', 't̠ʃ', 'ʒ', 'ɢ', 'i', 'kʰ', 'v', 'n', 'd', 'b', 'd̠ʒ', 'z', 'ʃ', 'ɑ', 'ʔ', 'u', 'ɡ', 'f', 's', 'h', 'a̟', 'l', 'm', 'e', 'χ', 'tʰ', 'o', 'r'}\n",
      "21\n",
      "27 {'w', 'j', 't̠ʃ', 'p', 'ɲ', 't', 'v', 'n', 'd', 'b', 'd̠ʒ', 'ʃ', 'ɡ', 'a', 'f', 's', 'ɛ', 'h', 'l', 'm', 'ɪ', 'ʊ', 'β', 'ŋ', 'k', 'ɔ', 'r'}\n",
      "19\n"
     ]
    }
   ],
   "source": [
    "# American English x Persian overlap\n",
    "persian = lang_phonemes[\"172\"]\n",
    "print(len(persian), persian)\n",
    "print(len(lang_phonemes[\"2175\"].intersection(persian)))\n",
    "\n",
    "kwangari = lang_phonemes[\"1272\"]\n",
    "print(len(kwangari), kwangari)\n",
    "print(len(lang_phonemes[\"2175\"].intersection(kwangari)))"
   ]
  },
  {
   "cell_type": "markdown",
   "id": "d0c53cf5",
   "metadata": {},
   "source": [
    "## Linguistic observation\n",
    "\n",
    "It's clear that the simple aggregates and set operations above don't tell us much of the story if used to evaluate linguistic similarity. They don't line up well with human intuitions for linguistic similarity, even phonetically (putting aside grammar and [phonotactics](https://en.wikipedia.org/wiki/Phonotactics)).\n",
    "\n",
    "[David J. Peterson](https://artoflanguageinvention.com/) claims that if a language contains a phoneme which is rare amongst languages, it will frequently maximize listener comprehension by using that phoneme quite a lot, making that phoneme (or class of phonemes) characteristic of the language. Examples include:\n",
    "- American English's [rhotic r](https://en.wikipedia.org/wiki/Rhoticity_in_English) (`[r]`, \"**r**ed\")\n",
    "- Hindi's retroflex t (`[ʈ]`, टापू [ʈaːpuˑ])\n",
    "- [ǃXóõ](https://omniglot.com/writing/taa.htm)'s heavy use of click consonants\n",
    "\n",
    "So, given a dataset of phonemes weighted by frequency of use or phonotactic \"importance\" in the language, we might be able to better calculate an intuition-aligned dis/similarity index."
   ]
  },
  {
   "cell_type": "markdown",
   "id": "1c30cea0",
   "metadata": {},
   "source": [
    "## In closing\n",
    "\n",
    "I don't feel like I learned much about language similarity here, but I learned a lot about how vast the differences in phonemic inventories can be across languages. This was a fun exploration!\n",
    "\n",
    "Although the questions I had weren't a great fit for the data and didn't do it justice, this is a wonderfully structured dataset and I'm excited to use it more in the future.\n",
    "\n",
    "In terms of code, `pandas` might be a better fit for querying next time, though I just used vanilla Python because I'm comfortable with it."
   ]
  }
 ],
 "metadata": {
  "kernelspec": {
   "display_name": "Python 3",
   "language": "python",
   "name": "python3"
  },
  "language_info": {
   "codemirror_mode": {
    "name": "ipython",
    "version": 3
   },
   "file_extension": ".py",
   "mimetype": "text/x-python",
   "name": "python",
   "nbconvert_exporter": "python",
   "pygments_lexer": "ipython3",
   "version": "3.9.5"
  }
 },
 "nbformat": 4,
 "nbformat_minor": 5
}
