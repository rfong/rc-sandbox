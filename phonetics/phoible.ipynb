{
 "cells": [
  {
   "cell_type": "markdown",
   "id": "4a7cd055",
   "metadata": {},
   "source": [
    "# Phoible explorations in language dis/similarity\n",
    "[Phoible](https://phoible.github.io/) is a highly structured dataset of phonemic inventories by language.\n",
    "\n",
    "[My blog post summary of this code exploration.](https://rfong.github.io/rflog/2021/06/15/phonemic-similarity/)"
   ]
  },
  {
   "cell_type": "code",
   "execution_count": 2,
   "id": "72dea46b",
   "metadata": {},
   "outputs": [],
   "source": [
    "import csv\n",
    "import itertools\n",
    "import matplotlib\n",
    "import matplotlib.pyplot as plt"
   ]
  },
  {
   "cell_type": "markdown",
   "id": "afb7dc0e",
   "metadata": {},
   "source": [
    "### Load the data"
   ]
  },
  {
   "cell_type": "code",
   "execution_count": 4,
   "id": "6b8e5bdc",
   "metadata": {},
   "outputs": [],
   "source": [
    "# Load & process dataset into a dict {<str>: <set>} mapping language IDs to sets of phonemes.\n",
    "with open('phoible.csv', 'r') as f:\n",
    "    reader = csv.DictReader(f)\n",
    "    lang_phonemes = {}  # {id: set(phonemes)}\n",
    "    langs = {}  # {id: row}\n",
    "    all_phonemes = set()\n",
    "\n",
    "    for row in reader:\n",
    "        idx = row['InventoryID']\n",
    "        if idx not in lang_phonemes:\n",
    "            lang_phonemes[idx] = set()\n",
    "        lang_phonemes[idx].add(row[\"Phoneme\"])\n",
    "        langs[idx] = row\n",
    "        all_phonemes.add(row[\"Phoneme\"])"
   ]
  },
  {
   "cell_type": "markdown",
   "id": "2c5fe05a",
   "metadata": {},
   "source": [
    "### Quick overview"
   ]
  },
  {
   "cell_type": "code",
   "execution_count": 5,
   "id": "345ad18c",
   "metadata": {},
   "outputs": [
    {
     "name": "stdout",
     "output_type": "stream",
     "text": [
      "3020 languages\n",
      "\n",
      "CSV field names: ['InventoryID', 'Glottocode', 'ISO6393', 'LanguageName', 'SpecificDialect', 'GlyphID', 'Phoneme', 'Allophones', 'Marginal', 'SegmentClass', 'Source', 'tone', 'stress', 'syllabic', 'short', 'long', 'consonantal', 'sonorant', 'continuant', 'delayedRelease', 'approximant', 'tap', 'trill', 'nasal', 'lateral', 'labial', 'round', 'labiodental', 'coronal', 'anterior', 'distributed', 'strident', 'dorsal', 'high', 'low', 'front', 'back', 'tense', 'retractedTongueRoot', 'advancedTongueRoot', 'periodicGlottalSource', 'epilaryngealSource', 'spreadGlottis', 'constrictedGlottis', 'fortis', 'raisedLarynxEjective', 'loweredLarynxImplosive', 'click']\n"
     ]
    }
   ],
   "source": [
    "# Check the dataset format\n",
    "print(\"%d languages\" % len(lang_phonemes))\n",
    "print(\"\\nCSV field names:\", reader.fieldnames)"
   ]
  },
  {
   "cell_type": "code",
   "execution_count": 6,
   "id": "27c49bb3",
   "metadata": {
    "scrolled": true
   },
   "outputs": [
    {
     "data": {
      "text/plain": [
       "Text(0.5, 0, 'phoneme inventory size')"
      ]
     },
     "execution_count": 6,
     "metadata": {},
     "output_type": "execute_result"
    },
    {
     "data": {
      "image/png": "[encoded data removed]",
      "text/plain": [
       "<Figure size 432x288 with 1 Axes>"
      ]
     },
     "metadata": {
      "needs_background": "light"
     },
     "output_type": "display_data"
    }
   ],
   "source": [
    "# Quick visualization overview\n",
    "fig, ax = plt.subplots()\n",
    "ax.hist([len(ps) for ps in lang_phonemes.values()], bins=25)\n",
    "ax.set_title(\"histogram of languages vs. phoneme inventory size\")\n",
    "ax.set_ylabel(\"languages\")\n",
    "ax.set_xlabel(\"phoneme inventory size\")"
   ]
  },
  {
   "cell_type": "markdown",
   "id": "d882f5e3",
   "metadata": {},
   "source": [
    "### Convenience methods"
   ]
  },
  {
   "cell_type": "code",
   "execution_count": 12,
   "id": "6a09ce71",
   "metadata": {},
   "outputs": [],
   "source": [
    "def get_lang_name(idx, use_dialect_name=False):\n",
    "    la = langs[idx].get('LanguageName')\n",
    "    di = langs[idx].get('SpecificDialect')\n",
    "    if use_dialect_name is False or di in la:\n",
    "        return la\n",
    "    return \"%s (%s)\" % (la, di)\n",
    "\n",
    "def prettyf_lang(idx, ps):\n",
    "    '''Return pretty print string'''\n",
    "    return \"{0} [{1}]\".format(\n",
    "        get_lang_name(idx, use_dialect_name=True),\n",
    "        len(ps)\n",
    "    )\n",
    "\n",
    "def are_related_dialects(idx1, idx2):\n",
    "    '''\n",
    "    Return true if these IDs denote subdialects of the same lang.\n",
    "    This is not bulletproof due to some formatting inconsistencies\n",
    "    in the dataset.\n",
    "    '''\n",
    "    la1 = langs[idx1]['LanguageName'].split('(')[0]\n",
    "    la2 = langs[idx2]['LanguageName'].split('(')[0]\n",
    "    return la1 == la2"
   ]
  },
  {
   "cell_type": "markdown",
   "id": "5f1f0ec6",
   "metadata": {},
   "source": [
    "## Let's ask some questions!"
   ]
  },
  {
   "cell_type": "code",
   "execution_count": 229,
   "id": "272f2383",
   "metadata": {},
   "outputs": [
    {
     "name": "stdout",
     "output_type": "stream",
     "text": [
      "!Xóõ (NA) [161]\n",
      "{'ɡʘkʰ', 'kʘ', 'uˤ', 'kǁh', 'pʼkxʼ', 'ɡʘ', 'tx', 'ɲ', 'i', 'ɡǃkʰ', 'kǁʰ', 'kʰ', 'kʼ', 'kǀkxʼ', 'kǃʔ', 'kǀʰ', 'aᴱ', 't̪ʼ', '˨', 'kǁʔ', 'ɢǃ', 'oˤ', 'qǀʼ', '˧', 'a̤', 'ḛ', 'ɡǃ', 'd̪x', 'kǃkxʼ', 'ɡǁkxʼ', 'qʘʼ', 'tʼ', 'kǀx', 'ʔŋǂ', 'kǁ', 'kǂh', 'ŋǁ', 'd̪ʼkxʼ', 'qʰ', 'ŋǂ', 'kʘkxʼ', 'pʰ', 'ʔŋʘ', 'ɢ', 'ˀm', 'kǀ', 'e̤', 'kǁkxʼ', 'ḭ', 'ʔŋǃ', 'ˀn', 'b', 'kʘʰ', 'ɢʱ', 'ɡǀ', 'n̪', 'ʔ', 't̪ʰ', 'kǂ', 'ɡ', 'a', 'ɡǁkʰ', 'ɡʱ', 'ɡǃkxʼ', 'ŋ̊ǂ', 'ɢʘ', 'e', 'dʼkxʼ', 'ɡǂ', 'ɡǀkʰ', 'k', 'tʰ', 'ɡǃx', 'kǀh', 'kǁx', 'kǃx', 'kǂkxʼ', 'ɡʘkxʼ', 'o', 'd̪ʱ', 'qʘ', 'dʱ', 'd', 'qǃʼ', 'ɢǃqʰ', 'kǂʔ', 'i̤', 'u', 'qǂʼ', 'õ', 'ṵ', 'ŋ̊ʘ', 'ŋ̊ǃ', 'kǂʰ', 'kʘʔ', 'o̤', 'ŋʘ', 'f', 'ɡǂkʰ', 'ṳ', 'ŋ̊ǁ', 'ɡǁ', 'ɸ', 'h', '˦', 'qǃ', 'ɢǂ', 'qǀ', 'ũ', 'l', 'ŋǀ', 'ɢǀ', 'ẽ', 'ŋǃ', 'ʔŋǁ', 'ɢǁqʰ', 'd̪', 'ɡǀx', 'x', 'dx', 'p', 'ɡǂx', 'ɢǁ', 'oᴱ', 't̪', 't', 'kʘh', 'qǁʼ', 'a̰', 'ɢǀqʰ', 'ɡʘx', 'kǃʰ', 'eˤ', 'kxʼ', 'qǁ', 'kǀʔ', 'ĩ', 'qǂ', 'iˤ', 'ɟ', 'qʼ', 's', 'ɡǀkxʼ', 'o̰', 'ɡǁx', 'uᴱ', 't̪ʼkxʼ', 'kǃ', 't̪x', 'ŋ̊ǀ', 'ɡʼkxʼ', 'kǃh', 'aˤ', 'm', 'ɡǂkxʼ', 'ʔŋǀ', 'ã', 'kǂx', 'tʼkxʼ', 'q', 'kʘx'}\n",
      "Pirahã [11]\n",
      "{'b', 'a', 'p', 's', 'i', 'h', 'k', 't', 'ʔ', 'o', 'ɡ'}\n"
     ]
    }
   ],
   "source": [
    "# Question: Which languages have the smallest and largest phonemic inventories?\n",
    "sorted_langs = sorted(lang_phonemes.items(), key=lambda tup: len(tup[1]), reverse=True)\n",
    "\n",
    "print(prettyf_lang(*sorted_langs[0]))\n",
    "print(sorted_langs[0][1])\n",
    "\n",
    "idx, ps = sorted_langs[-1]\n",
    "print(prettyf_lang(*sorted_langs[-1]))\n",
    "print(sorted_langs[-1][1])"
   ]
  },
  {
   "cell_type": "code",
   "execution_count": 263,
   "id": "2b4466bb",
   "metadata": {},
   "outputs": [
    {
     "name": "stdout",
     "output_type": "stream",
     "text": [
      "Max union pair: !Xóõ (NA) [161] and Kildin Saami (NA) [128]. Union = 274 phonemes\n"
     ]
    }
   ],
   "source": [
    "# Question: What pair of langs has the maximum phoneme union?\n",
    "# (What pair of languages would you theoretically teach a baby\n",
    "#  to give them the largest inventory of distinct phonemes?)\n",
    "max_union_pair = max(\n",
    "    itertools.combinations(lang_phonemes.items(), 2),\n",
    "    key=lambda ps: len(ps[0][1].union(ps[1][1]))\n",
    ")\n",
    "(iso1, iso2) = (max_union_pair[0][0], max_union_pair[1][0])\n",
    "(ps1, ps2) = (max_union_pair[0][1], max_union_pair[1][1])\n",
    "print(\"Max union pair: %s and %s. Union = %d phonemes\" % \\\n",
    "      (prettyf_lang(*max_union_pair[0]), prettyf_lang(*max_union_pair[1]), len(ps1.union(ps2))))"
   ]
  },
  {
   "cell_type": "code",
   "execution_count": 14,
   "id": "5ae265bc",
   "metadata": {},
   "outputs": [],
   "source": [
    "# Question: What pair of langs (not related to each other as \n",
    "# dialects) have the maximum phoneme intersection? In other \n",
    "# words, what pair of languages has the largest volume of overlap?\n",
    "# (Note that this is a different question from \"what langs overlap\n",
    "#  by the largest *percentage* of their inventories?\")\n",
    "\n",
    "# It's ok to lazily take all pairwise combos, ~9M\n",
    "max_intersect_pair = max(\n",
    "    itertools.combinations(lang_phonemes.items(), 2),\n",
    "    key=lambda ps: (\n",
    "        0 if are_related_dialects(ps[0][0], ps[1][0])\n",
    "        else len(ps[0][1].intersection(ps[1][1]))\n",
    "    ),\n",
    ")"
   ]
  },
  {
   "cell_type": "code",
   "execution_count": 15,
   "id": "306a716e",
   "metadata": {
    "scrolled": true
   },
   "outputs": [
    {
     "name": "stdout",
     "output_type": "stream",
     "text": [
      "Max intersected pair: Kanga (Kanga) [76] and Kadugli (Miri) [63]. Intersection = 62 phonemes\n"
     ]
    }
   ],
   "source": [
    "(ps1, ps2) = (max_intersect_pair[0][1], max_intersect_pair[1][1])\n",
    "print(\"Max intersected pair: %s and %s. Intersection = %d phonemes\" % \\\n",
    "      (prettyf_lang(*max_intersect_pair[0]), prettyf_lang(*max_intersect_pair[1]), len(ps1.intersection(ps2))))"
   ]
  },
  {
   "cell_type": "code",
   "execution_count": 29,
   "id": "2a8f0a88",
   "metadata": {},
   "outputs": [],
   "source": [
    "# Questions: What pair(s) of langs have maximal overlapping percentage?\n",
    "# Are any complete subsets of another lang?\n",
    "\n",
    "# Takes a nested tuple ((idx1, phonemes1), (idx2, phonemes2))\n",
    "get_similarity_index = lambda ps: max(\n",
    "    len(ps[0][1].intersection(ps[1][1]))/len(ps[0][1])*1.0,\n",
    "    len(ps[0][1].intersection(ps[1][1]))/len(ps[1][1])*1.0\n",
    ")\n",
    "\n",
    "most_sim = sorted(\n",
    "    itertools.combinations(lang_phonemes.items(), 2),\n",
    "    key=get_similarity_index,\n",
    "    reverse=True\n",
    ")"
   ]
  },
  {
   "cell_type": "code",
   "execution_count": 33,
   "id": "ff662daa",
   "metadata": {},
   "outputs": [],
   "source": [
    "max_sim_ind = get_similarity_index(most_sim[0])\n",
    "num_max_sim_pairs = 0\n",
    "for ps in most_sim:\n",
    "    if get_similarity_index(ps) < max_sim_ind:\n",
    "        break\n",
    "    num_max_sim_pairs += 1"
   ]
  },
  {
   "cell_type": "code",
   "execution_count": 34,
   "id": "c7f98191",
   "metadata": {
    "scrolled": true
   },
   "outputs": [
    {
     "name": "stdout",
     "output_type": "stream",
     "text": [
      "13975 pairs found with 1.00 similarity\n",
      "\tSampling a few of them:\n",
      "Kota (NA) [34] KOTA (NA) [28]\n",
      "\toverlap: {'i', 'kʰ', 'r', 'pʰ', 'e̞', 't̪ʰ', 'u', 'a', 'n', 'l', 'd̪', 'b', 'ɖ', 'm', 'ʈʰ', 'ɳ', 'ʂ', 'd', 'ɭ', 'tʰ', 'ɽ', 'ŋ', 'ɡ', 'j', 'o̞', 't̠ʃʰ', 'v', 'd̠ʒ'}\n",
      "Sedang (NA) [53] Ainu (NA) [17]\n",
      "\toverlap: {'ɔ', 'h', 'n', 'p', 'i', 'r', 's', 'j', 'a', 'ʔ', 'u', 'w', 'ɛ', 'k', 't', 'm', 't̠ʃ'}\n",
      "Sedang (NA) [53] Southern Nuautl (NA) [17]\n",
      "\toverlap: {'h', 'n', 'i', 'l', 'p', 'r', 's', 'j', 'e', 'ʔ', 'u', 'w', 'a', 'k', 't', 'o', 'm'}\n",
      "Yao (NA) [49] Orokaiva (NA) [17]\n",
      "\toverlap: {'h', 'dz', 'i', 'p', 'n', 'ŋ', 'ɡ', 's', 'd', 'e', 'u', 'b', 'a', 'o', 'k', 't', 'm'}\n",
      "Yao (NA) [49] Samo (NA) [18]\n",
      "\toverlap: {'ɔ', 'h', 'f', 'l', 'i', 'ɡ', 's', 'd', 'j', 'e', 'u', 'b', 'w', 'a', 'k', 't', 'o', 'm'}\n"
     ]
    }
   ],
   "source": [
    "print(\"%d pairs found with %.2f similarity\" % (num_max_sim_pairs, max_sim_ind))\n",
    "print(\"\\tSampling a few of them:\")\n",
    "for ps in most_sim[:5]:\n",
    "    sim_ind = get_similarity_index(ps)\n",
    "    if sim_ind < max_sim_ind:\n",
    "        break\n",
    "    if len(ps[0][1]) > len(ps[1][1]):\n",
    "        print(prettyf_lang(*ps[0]), prettyf_lang(*ps[1]))\n",
    "    else:\n",
    "        print(prettyf_lang(*ps[1]), prettyf_lang(*ps[0]))\n",
    "    print(\"\\toverlap:\", ps[0][1].intersection(ps[1][1]))"
   ]
  },
  {
   "cell_type": "code",
   "execution_count": 44,
   "id": "50f8111d",
   "metadata": {},
   "outputs": [
    {
     "name": "stdout",
     "output_type": "stream",
     "text": [
      "19 pairs found with 0.0 similarity\n",
      "2372 Northern Altai (Northern Altai (Kumandy)) [34] 2607 Najdi Arabic (NA) [33]\n",
      "2143 Pisamira [17] 2453 Miyako (Miyako (Ogami)) [19]\n",
      "1993 Yuhup [35] 2453 Miyako (Miyako (Ogami)) [19]\n",
      "1991 Hup [34] 2453 Miyako (Miyako (Ogami)) [19]\n",
      "1238 Crow (NA) [23] 2453 Miyako (Miyako (Ogami)) [19]\n",
      "1020 Hup (NA) [29] 2453 Miyako (Miyako (Ogami)) [19]\n",
      "870 Usarufa (NA) [22] 2521 Irish (Irish (Corca Dhuibhne)) [52]\n",
      "619 WARIS (NA) [22] 2453 Miyako (Miyako (Ogami)) [19]\n",
      "611 WICHITA (NA) [29] 2434 Eastern Khanty (Eastern Khanty (Vakh)) [30]\n",
      "556 SIRIONO (NA) [28] 2453 Miyako (Miyako (Ogami)) [19]\n",
      "528 ROTOKAS (NA) [11] 2610 Kabardian (Kabardian (Turkish)) [51]\n",
      "477 PIRAHA (NA) [11] 2453 Miyako (Miyako (Ogami)) [19]\n",
      "453 MAXAKALI (NA) [20] 2552 Abkhaz (Abkhaz (Bzyb)) [70]\n",
      "453 MAXAKALI (NA) [20] 2468 Abkhaz (Abkhaz (Abzhywa)) [62]\n",
      "402 KAINGANG (NA) [27] 2453 Miyako (Miyako (Ogami)) [19]\n",
      "391 KABARDIAN (NA) [56] 528 ROTOKAS (NA) [11]\n",
      "278 CHIPEWYAN (NA) [52] 2453 Miyako (Miyako (Ogami)) [19]\n",
      "226 APINAYE [30] 2453 Miyako (Miyako (Ogami)) [19]\n",
      "4 Kabardian (NA) [56] 528 ROTOKAS (NA) [11]\n"
     ]
    }
   ],
   "source": [
    "# Question: What langs have the fewest phonemes in common?\n",
    "num_min_sim_pairs = 0\n",
    "for ps in reversed(most_sim):\n",
    "    if get_similarity_index(ps) > 0:\n",
    "        break\n",
    "    num_min_sim_pairs += 1\n",
    "print(\"%d pairs found with 0.0 similarity\" % num_min_sim_pairs)\n",
    "for ps in reversed(most_sim[-num_min_sim_pairs:]):\n",
    "    print(ps[0][0], prettyf_lang(*ps[0]), ps[1][0], prettyf_lang(*ps[1]))"
   ]
  },
  {
   "cell_type": "code",
   "execution_count": 60,
   "id": "43c53b39",
   "metadata": {
    "scrolled": true
   },
   "outputs": [
    {
     "name": "stdout",
     "output_type": "stream",
     "text": [
      "Hakka Chinese (Kejia (Hakka Chinese, Meijiang, Meixian Hakka)) [47] sim=0.63\n",
      "Eastern Hill Balochi (NA) [54] sim=0.58\n",
      "Igbo (NA) [65] sim=0.53\n",
      "Luo (NA) [35] sim=0.53\n",
      "Yao (NA) [49] sim=0.47\n",
      "Thai (NA) [45] sim=0.47\n",
      "Swahili (NA) [36] sim=0.47\n",
      "Zulu (NA) [43] sim=0.47\n",
      "Norwegian (NA) [48] sim=0.47\n",
      "English (NA) [40] sim=0.47\n"
     ]
    }
   ],
   "source": [
    "# Followup question: Is Ogami Miyakoan phonetically lonely?\n",
    "miyako = \"2453\"\n",
    "miyako_sim = sorted(\n",
    "    map(\n",
    "        lambda ps: (ps[0], get_similarity_index((ps,(miyako,lang_phonemes[miyako])))),\n",
    "        lang_phonemes.items(),\n",
    "    ),\n",
    "    key=lambda x: x[1],\n",
    "    reverse=True,\n",
    ")\n",
    "for idx, sim in miyako_sim[1:11]:\n",
    "    print(\"%s sim=%.2f\" % (prettyf_lang(idx, lang_phonemes[idx]), sim))\n",
    "# Answer: Probably not."
   ]
  },
  {
   "cell_type": "markdown",
   "id": "e338cba2",
   "metadata": {},
   "source": [
    "## American English"
   ]
  },
  {
   "cell_type": "code",
   "execution_count": 24,
   "id": "6e0adebe",
   "metadata": {
    "scrolled": true
   },
   "outputs": [
    {
     "name": "stdout",
     "output_type": "stream",
     "text": [
      "['2175', '2176']\n",
      "0.8717948717948718\n",
      "2175 English (American) (Western and Mid-Western US; Southern California) [39] - most similar:\n",
      "\t2175 English (American) (Western and Mid-Western US; Southern California) - similarity 1.00\n",
      "\t2176 American English (Southeastern Michigan) - similarity 0.87\n",
      "\t2252 English (English (RP)) - similarity 0.85\n",
      "\t2178 English (British) (Liverpool) - similarity 0.79\n",
      "\t160 English (NA) - similarity 0.72\n",
      "\t2180 English (British) (Tyneside English (spoken in Newcastle)) - similarity 0.72\n",
      "\t1272 kwangari (NA) - similarity 0.70\n",
      "\t172 Persian (NA) - similarity 0.70\n",
      "\t2177 English (Australian) (NA) - similarity 0.69\n",
      "\t2338 Burmese (Burmese (Rangoon)) - similarity 0.69\n",
      "2176 American English (Southeastern Michigan) [39] - most similar:\n",
      "\t2176 American English (Southeastern Michigan) - similarity 1.00\n",
      "\t2175 English (American) (Western and Mid-Western US; Southern California) - similarity 0.87\n",
      "\t2252 English (English (RP)) - similarity 0.79\n",
      "\t2178 English (British) (Liverpool) - similarity 0.77\n",
      "\t172 Persian (NA) - similarity 0.77\n",
      "\t580 JOMANG (NA) - similarity 0.76\n",
      "\t2205 Persian (NA) - similarity 0.76\n",
      "\t202 AMELE (NA) - similarity 0.75\n",
      "\t248 BANDJALANG (NA) - similarity 0.75\n",
      "\t596 TUNICA (NA) - similarity 0.75\n"
     ]
    }
   ],
   "source": [
    "# Question: What langs are a strict phonemic subset of American English?\n",
    "# (In other words, what languages could I easily pronounce?)\n",
    "\n",
    "american_dialects = list(idx for idx, la in langs.items() if \"American\" in la['LanguageName'])\n",
    "print(american_dialects)\n",
    "print(\n",
    "    get_similarity_index(((\"2175\", lang_phonemes[\"2175\"]),(\"2176\", lang_phonemes[\"2176\"])))\n",
    ")\n",
    "for idx in american_dialects:\n",
    "    am_ps = (idx, lang_phonemes[idx])\n",
    "    most_sim = sorted(\n",
    "        map(\n",
    "            lambda ps: {\"idx\": ps[0], \"phonemes\": ps[1], \"similarity\": get_similarity_index((ps, am_ps))},\n",
    "            lang_phonemes.items(),\n",
    "        ),\n",
    "        key=lambda d: d[\"similarity\"],\n",
    "        reverse=True,\n",
    "    )\n",
    "    print(idx, prettyf_lang(*am_ps), \"- most similar:\")\n",
    "    for d in most_sim[:10]:\n",
    "        print(\"\\t%s %s - similarity %.2f\" % (\n",
    "            d[\"idx\"],\n",
    "            get_lang_name(d[\"idx\"], use_dialect_name=True),\n",
    "            get_similarity_index((am_ps, (d[\"idx\"], d[\"phonemes\"])))\n",
    "        ))"
   ]
  },
  {
   "cell_type": "code",
   "execution_count": 19,
   "id": "128785b7",
   "metadata": {
    "scrolled": true
   },
   "outputs": [
    {
     "name": "stdout",
     "output_type": "stream",
     "text": [
      "30 {'i', 'kʰ', 'pʰ', 'r', 's', 'χ', 'u', 'ʃ', 'n', 'l', 'ʒ', 'e', 'b', 'w', 'm', 'h', 'f', 'ɢ', 'd', 'ɑ', 'ʔ', 'a̟', 'tʰ', 't̠ʃ', 'z', 'ɡ', 'j', 'o', 'v', 'd̠ʒ'}\n",
      "21\n",
      "27 {'r', 's', 'a', 'ʃ', 'ɔ', 'n', 'l', 'b', 'w', 'ɛ', 't', 'ɪ', 'ɲ', 'm', 'h', 'f', 'd', 'ʊ', 't̠ʃ', 'p', 'ŋ', 'ɡ', 'j', 'k', 'v', 'd̠ʒ', 'β'}\n",
      "19\n"
     ]
    }
   ],
   "source": [
    "# American English x Persian overlap\n",
    "persian = lang_phonemes[\"172\"]\n",
    "print(len(persian), persian)\n",
    "print(len(lang_phonemes[\"2175\"].intersection(persian)))\n",
    "\n",
    "# American English x Kwangali overlap\n",
    "kwangali = lang_phonemes[\"1272\"]\n",
    "print(len(kwangali), kwangali)\n",
    "print(len(lang_phonemes[\"2175\"].intersection(kwangali)))"
   ]
  },
  {
   "cell_type": "code",
   "execution_count": 20,
   "id": "410d9b2b",
   "metadata": {},
   "outputs": [
    {
     "name": "stdout",
     "output_type": "stream",
     "text": [
      "40 {'ɾ', 'i', 'ʃː', 's', 'tː', 'ɯː', 'a', 'ʃ', 'ɔ', 'n', 'ɛː', '˧', 'ɔː', 'aː', 'iː', 'b', 'w', 'ɛ', 'ɯ', 't', 'çː', 'm', 'tsː', 'h', 'ɯ̃', 'pː', 'd', 'sː', 'ʔ', 't̠ʃː', 't̠ʃ', 'kː', 'z', 'p', 'ŋ', 'ɡ', 'j', '˥', 'k', 'd̠ʒ'}\n",
      "15\n"
     ]
    }
   ],
   "source": [
    "# I often tell people that Japanese's phonemic inventory \n",
    "# is very close to American English's because I had a \n",
    "# really easy time pronouncing it. Is this actually true, though?\n",
    "jpn = lang_phonemes[\"197\"]\n",
    "print(len(jpn), jpn)\n",
    "print(len(lang_phonemes[\"2175\"].intersection(jpn)))"
   ]
  }
 ],
 "metadata": {
  "kernelspec": {
   "display_name": "Python 3",
   "language": "python",
   "name": "python3"
  },
  "language_info": {
   "codemirror_mode": {
    "name": "ipython",
    "version": 3
   },
   "file_extension": ".py",
   "mimetype": "text/x-python",
   "name": "python",
   "nbconvert_exporter": "python",
   "pygments_lexer": "ipython3",
   "version": "3.9.5"
  }
 },
 "nbformat": 4,
 "nbformat_minor": 5
}
